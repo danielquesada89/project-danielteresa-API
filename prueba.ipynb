{
 "cells": [
  {
   "metadata": {
    "ExecuteTime": {
     "end_time": "2024-08-13T17:16:54.264014Z",
     "start_time": "2024-08-13T17:16:50.191730Z"
    }
   },
   "cell_type": "code",
   "source": [
    "import streamlit as st\n",
    "import base64\n",
    "import os\n",
    "from ultralytics import YOLO\n",
    "import joblib\n",
    "import pandas as pd\n",
    "import torch"
   ],
   "id": "60c0fcb4ffd38e6c",
   "outputs": [],
   "execution_count": 1
  },
  {
   "metadata": {
    "ExecuteTime": {
     "end_time": "2024-08-13T17:18:05.821410Z",
     "start_time": "2024-08-13T17:18:05.805679Z"
    }
   },
   "cell_type": "code",
   "source": [
    "import torch.nn as nn\n",
    "\n",
    "# Define or import the missing `_loss` class/module\n",
    "class _loss(nn.Module):\n",
    "    def __init__(self):\n",
    "        super(_loss, self).__init__()\n",
    "\n",
    "    def forward(self, input, target):\n",
    "        # Example custom loss computation\n",
    "        return ((input - target) ** 2).mean()"
   ],
   "id": "39df54dc281f9c81",
   "outputs": [],
   "execution_count": 3
  },
  {
   "metadata": {
    "ExecuteTime": {
     "end_time": "2024-08-13T17:18:07.515100Z",
     "start_time": "2024-08-13T17:18:07.461621Z"
    }
   },
   "cell_type": "code",
   "source": [
    "# we import model\n",
    "cost_model = joblib.load(\"Models/cost_model.pkl\")"
   ],
   "id": "d000459a13567801",
   "outputs": [
    {
     "ename": "ModuleNotFoundError",
     "evalue": "No module named '_loss'",
     "output_type": "error",
     "traceback": [
      "\u001B[1;31m---------------------------------------------------------------------------\u001B[0m",
      "\u001B[1;31mModuleNotFoundError\u001B[0m                       Traceback (most recent call last)",
      "Cell \u001B[1;32mIn[4], line 2\u001B[0m\n\u001B[0;32m      1\u001B[0m \u001B[38;5;66;03m# we import model\u001B[39;00m\n\u001B[1;32m----> 2\u001B[0m cost_model \u001B[38;5;241m=\u001B[39m \u001B[43mjoblib\u001B[49m\u001B[38;5;241;43m.\u001B[39;49m\u001B[43mload\u001B[49m\u001B[43m(\u001B[49m\u001B[38;5;124;43m\"\u001B[39;49m\u001B[38;5;124;43mModels/cost_model.pkl\u001B[39;49m\u001B[38;5;124;43m\"\u001B[39;49m\u001B[43m)\u001B[49m\n",
      "File \u001B[1;32m~\\PycharmProjects\\project-danielteresa-API\\venv2\\lib\\site-packages\\joblib\\numpy_pickle.py:658\u001B[0m, in \u001B[0;36mload\u001B[1;34m(filename, mmap_mode)\u001B[0m\n\u001B[0;32m    652\u001B[0m             \u001B[38;5;28;01mif\u001B[39;00m \u001B[38;5;28misinstance\u001B[39m(fobj, \u001B[38;5;28mstr\u001B[39m):\n\u001B[0;32m    653\u001B[0m                 \u001B[38;5;66;03m# if the returned file object is a string, this means we\u001B[39;00m\n\u001B[0;32m    654\u001B[0m                 \u001B[38;5;66;03m# try to load a pickle file generated with an version of\u001B[39;00m\n\u001B[0;32m    655\u001B[0m                 \u001B[38;5;66;03m# Joblib so we load it with joblib compatibility function.\u001B[39;00m\n\u001B[0;32m    656\u001B[0m                 \u001B[38;5;28;01mreturn\u001B[39;00m load_compatibility(fobj)\n\u001B[1;32m--> 658\u001B[0m             obj \u001B[38;5;241m=\u001B[39m \u001B[43m_unpickle\u001B[49m\u001B[43m(\u001B[49m\u001B[43mfobj\u001B[49m\u001B[43m,\u001B[49m\u001B[43m \u001B[49m\u001B[43mfilename\u001B[49m\u001B[43m,\u001B[49m\u001B[43m \u001B[49m\u001B[43mmmap_mode\u001B[49m\u001B[43m)\u001B[49m\n\u001B[0;32m    659\u001B[0m \u001B[38;5;28;01mreturn\u001B[39;00m obj\n",
      "File \u001B[1;32m~\\PycharmProjects\\project-danielteresa-API\\venv2\\lib\\site-packages\\joblib\\numpy_pickle.py:577\u001B[0m, in \u001B[0;36m_unpickle\u001B[1;34m(fobj, filename, mmap_mode)\u001B[0m\n\u001B[0;32m    575\u001B[0m obj \u001B[38;5;241m=\u001B[39m \u001B[38;5;28;01mNone\u001B[39;00m\n\u001B[0;32m    576\u001B[0m \u001B[38;5;28;01mtry\u001B[39;00m:\n\u001B[1;32m--> 577\u001B[0m     obj \u001B[38;5;241m=\u001B[39m \u001B[43munpickler\u001B[49m\u001B[38;5;241;43m.\u001B[39;49m\u001B[43mload\u001B[49m\u001B[43m(\u001B[49m\u001B[43m)\u001B[49m\n\u001B[0;32m    578\u001B[0m     \u001B[38;5;28;01mif\u001B[39;00m unpickler\u001B[38;5;241m.\u001B[39mcompat_mode:\n\u001B[0;32m    579\u001B[0m         warnings\u001B[38;5;241m.\u001B[39mwarn(\u001B[38;5;124m\"\u001B[39m\u001B[38;5;124mThe file \u001B[39m\u001B[38;5;124m'\u001B[39m\u001B[38;5;132;01m%s\u001B[39;00m\u001B[38;5;124m'\u001B[39m\u001B[38;5;124m has been generated with a \u001B[39m\u001B[38;5;124m\"\u001B[39m\n\u001B[0;32m    580\u001B[0m                       \u001B[38;5;124m\"\u001B[39m\u001B[38;5;124mjoblib version less than 0.10. \u001B[39m\u001B[38;5;124m\"\u001B[39m\n\u001B[0;32m    581\u001B[0m                       \u001B[38;5;124m\"\u001B[39m\u001B[38;5;124mPlease regenerate this pickle file.\u001B[39m\u001B[38;5;124m\"\u001B[39m\n\u001B[0;32m    582\u001B[0m                       \u001B[38;5;241m%\u001B[39m filename,\n\u001B[0;32m    583\u001B[0m                       \u001B[38;5;167;01mDeprecationWarning\u001B[39;00m, stacklevel\u001B[38;5;241m=\u001B[39m\u001B[38;5;241m3\u001B[39m)\n",
      "File \u001B[1;32m~\\AppData\\Local\\Programs\\Python\\Python38\\lib\\pickle.py:1210\u001B[0m, in \u001B[0;36m_Unpickler.load\u001B[1;34m(self)\u001B[0m\n\u001B[0;32m   1208\u001B[0m             \u001B[38;5;28;01mraise\u001B[39;00m \u001B[38;5;167;01mEOFError\u001B[39;00m\n\u001B[0;32m   1209\u001B[0m         \u001B[38;5;28;01massert\u001B[39;00m \u001B[38;5;28misinstance\u001B[39m(key, bytes_types)\n\u001B[1;32m-> 1210\u001B[0m         \u001B[43mdispatch\u001B[49m\u001B[43m[\u001B[49m\u001B[43mkey\u001B[49m\u001B[43m[\u001B[49m\u001B[38;5;241;43m0\u001B[39;49m\u001B[43m]\u001B[49m\u001B[43m]\u001B[49m\u001B[43m(\u001B[49m\u001B[38;5;28;43mself\u001B[39;49m\u001B[43m)\u001B[49m\n\u001B[0;32m   1211\u001B[0m \u001B[38;5;28;01mexcept\u001B[39;00m _Stop \u001B[38;5;28;01mas\u001B[39;00m stopinst:\n\u001B[0;32m   1212\u001B[0m     \u001B[38;5;28;01mreturn\u001B[39;00m stopinst\u001B[38;5;241m.\u001B[39mvalue\n",
      "File \u001B[1;32m~\\AppData\\Local\\Programs\\Python\\Python38\\lib\\pickle.py:1535\u001B[0m, in \u001B[0;36m_Unpickler.load_stack_global\u001B[1;34m(self)\u001B[0m\n\u001B[0;32m   1533\u001B[0m \u001B[38;5;28;01mif\u001B[39;00m \u001B[38;5;28mtype\u001B[39m(name) \u001B[38;5;129;01mis\u001B[39;00m \u001B[38;5;129;01mnot\u001B[39;00m \u001B[38;5;28mstr\u001B[39m \u001B[38;5;129;01mor\u001B[39;00m \u001B[38;5;28mtype\u001B[39m(module) \u001B[38;5;129;01mis\u001B[39;00m \u001B[38;5;129;01mnot\u001B[39;00m \u001B[38;5;28mstr\u001B[39m:\n\u001B[0;32m   1534\u001B[0m     \u001B[38;5;28;01mraise\u001B[39;00m UnpicklingError(\u001B[38;5;124m\"\u001B[39m\u001B[38;5;124mSTACK_GLOBAL requires str\u001B[39m\u001B[38;5;124m\"\u001B[39m)\n\u001B[1;32m-> 1535\u001B[0m \u001B[38;5;28mself\u001B[39m\u001B[38;5;241m.\u001B[39mappend(\u001B[38;5;28;43mself\u001B[39;49m\u001B[38;5;241;43m.\u001B[39;49m\u001B[43mfind_class\u001B[49m\u001B[43m(\u001B[49m\u001B[43mmodule\u001B[49m\u001B[43m,\u001B[49m\u001B[43m \u001B[49m\u001B[43mname\u001B[49m\u001B[43m)\u001B[49m)\n",
      "File \u001B[1;32m~\\AppData\\Local\\Programs\\Python\\Python38\\lib\\pickle.py:1577\u001B[0m, in \u001B[0;36m_Unpickler.find_class\u001B[1;34m(self, module, name)\u001B[0m\n\u001B[0;32m   1575\u001B[0m     \u001B[38;5;28;01melif\u001B[39;00m module \u001B[38;5;129;01min\u001B[39;00m _compat_pickle\u001B[38;5;241m.\u001B[39mIMPORT_MAPPING:\n\u001B[0;32m   1576\u001B[0m         module \u001B[38;5;241m=\u001B[39m _compat_pickle\u001B[38;5;241m.\u001B[39mIMPORT_MAPPING[module]\n\u001B[1;32m-> 1577\u001B[0m \u001B[38;5;28;43m__import__\u001B[39;49m\u001B[43m(\u001B[49m\u001B[43mmodule\u001B[49m\u001B[43m,\u001B[49m\u001B[43m \u001B[49m\u001B[43mlevel\u001B[49m\u001B[38;5;241;43m=\u001B[39;49m\u001B[38;5;241;43m0\u001B[39;49m\u001B[43m)\u001B[49m\n\u001B[0;32m   1578\u001B[0m \u001B[38;5;28;01mif\u001B[39;00m \u001B[38;5;28mself\u001B[39m\u001B[38;5;241m.\u001B[39mproto \u001B[38;5;241m>\u001B[39m\u001B[38;5;241m=\u001B[39m \u001B[38;5;241m4\u001B[39m:\n\u001B[0;32m   1579\u001B[0m     \u001B[38;5;28;01mreturn\u001B[39;00m _getattribute(sys\u001B[38;5;241m.\u001B[39mmodules[module], name)[\u001B[38;5;241m0\u001B[39m]\n",
      "\u001B[1;31mModuleNotFoundError\u001B[0m: No module named '_loss'"
     ]
    }
   ],
   "execution_count": 4
  },
  {
   "metadata": {},
   "cell_type": "code",
   "outputs": [],
   "execution_count": null,
   "source": [
    "\n",
    "\n",
    "\n",
    "\n",
    "# Display the selected workshop\n",
    "if buttom_workshop != \"Select among available workshops\":\n",
    "    # workshop selection\n",
    "    workshops={\n",
    "    'Smithfield Autotech':'Low',\n",
    "    'Sandyford McCann Motor':'Medium',\n",
    "    'Mobile Mechanic':'High'\n",
    "    }\n",
    "\n",
    "    selected_workshop_qual = workshops[buttom_workshop]\n",
    "\n",
    "    # we predict the cost of the claims\n",
    "    case = pd.DataFrame({\n",
    "    'const': [1],\n",
    "    'brand_Volkswagen': [0],\n",
    "    'model_Corolla': [0],\n",
    "    'model_Golf': [0],\n",
    "    'model_Polo': [0],\n",
    "    'model_Tiguan': [0],\n",
    "    'model_Yaris': [1],\n",
    "    'veh_age_range_Newer': [1],\n",
    "    'veh_age_range_Old': [0],\n",
    "    'workshop_quality_Low': [0],\n",
    "    'workshop_quality_Medium': [0],\n",
    "    'counties_group2': [0],\n",
    "    'counties_group3': [0],\n",
    "    'damage_type_met_dent_medium': [0],\n",
    "    'damage_type_met_dent_minor': [0],\n",
    "    'damage_type_met_dent_severe': [0],\n",
    "    'damage_type_met_tear': [0],\n",
    "    'damage_type_mis_lamp': [0],\n",
    "    'damage_type_mis_lost': [0],\n",
    "    'damage_type_mis_punct': [0]\n",
    "    })\n",
    "\n",
    "    # Adjust case DataFrame based on selected_workshop_qual\n",
    "    if selected_workshop_qual == 'High':\n",
    "        case['workshop_quality_Low'] = [0]\n",
    "        case['workshop_quality_Medium'] = [0]\n",
    "    elif selected_workshop_qual == 'Medium':\n",
    "        case['workshop_quality_Low'] = [0]\n",
    "        case['workshop_quality_Medium'] = [1]\n",
    "    elif selected_workshop_qual == 'Low':\n",
    "        case['workshop_quality_Low'] = [1]\n",
    "        case['workshop_quality_Medium'] = [0]\n",
    "\n",
    "    damage_types = [results[0].names[int(cls)] for cls in results[0].boxes.cpu().numpy().cls]\n",
    "\n",
    "    # Function to generate the complete_case DataFrame\n",
    "    def generate_complete_case(case, damage_types):\n",
    "        complete_case = pd.DataFrame()\n",
    "\n",
    "        for damage_type in damage_types:\n",
    "            temp_case = case.copy()\n",
    "\n",
    "            # Set the corresponding damage type to 1\n",
    "            damage_column = f'damage_type_{damage_type}'\n",
    "            if damage_column in temp_case.columns:\n",
    "                temp_case[damage_column] = [1]\n",
    "\n",
    "            # Append this row to the complete_case DataFrame\n",
    "            complete_case = pd.concat([complete_case, temp_case], ignore_index=True)\n",
    "\n",
    "        return complete_case\n",
    "\n",
    "\n",
    "    # Generate the complete_case DataFrame\n",
    "    complete_case = generate_complete_case(case, damage_types)\n",
    "\n",
    "    # dataframe with the predictions\n",
    "    cost_predictions= pd.DataFrame({'Damages': damage_types,\n",
    "    'Cost Estimates': cost_model.predict(complete_case).round(0)\n",
    "    })\n",
    "\n",
    "    # Calculate the total cost as the sum of all 'Cost Estimates'\n",
    "    total_cost = cost_predictions['Cost Estimates'].sum()\n",
    "\n",
    "    # Format total_cost as a string with no decimals and a comma as a thousands separator\n",
    "    formatted_total_cost = f\"{total_cost:,.0f}\""
   ],
   "id": "373fa5e33b1486fc"
  },
  {
   "metadata": {},
   "cell_type": "code",
   "outputs": [],
   "execution_count": null,
   "source": "",
   "id": "a5cc8353bb4febb3"
  },
  {
   "metadata": {},
   "cell_type": "code",
   "outputs": [],
   "execution_count": null,
   "source": "",
   "id": "69dcca2143c7eb59"
  }
 ],
 "metadata": {
  "kernelspec": {
   "display_name": "Python 3",
   "language": "python",
   "name": "python3"
  },
  "language_info": {
   "codemirror_mode": {
    "name": "ipython",
    "version": 2
   },
   "file_extension": ".py",
   "mimetype": "text/x-python",
   "name": "python",
   "nbconvert_exporter": "python",
   "pygments_lexer": "ipython2",
   "version": "2.7.6"
  }
 },
 "nbformat": 4,
 "nbformat_minor": 5
}
